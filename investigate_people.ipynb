{
 "cells": [
  {
   "cell_type": "markdown",
   "metadata": {},
   "source": [
    "# Investigate people and companies - part 1"
   ]
  },
  {
   "cell_type": "raw",
   "metadata": {},
   "source": [
    "First, click on File, download as, Notebook"
   ]
  },
  {
   "cell_type": "markdown",
   "metadata": {},
   "source": [
    "## Sherlock - great with usernames"
   ]
  },
  {
   "cell_type": "raw",
   "metadata": {},
   "source": [
    "# First, lets install some stuff using command lines\n",
    "\n",
    "# clone the repo\n",
    "git clone https://github.com/sherlock-project/sherlock.git\n",
    "\n",
    "# change the working directory to sherlock\n",
    "cd sherlock\n",
    "\n",
    "# install the requirements\n",
    "python3 -m pip install -r requirements.txt"
   ]
  },
  {
   "cell_type": "raw",
   "metadata": {},
   "source": [
    "positional arguments:\n",
    "USERNAMES             One or more usernames to check with social networks.\n",
    "--csv                 Create Comma-Separated Values (CSV) File.\n",
    "--print-found         Output sites where the username was found.\n"
   ]
  },
  {
   "cell_type": "code",
   "execution_count": null,
   "metadata": {},
   "outputs": [],
   "source": [
    "To search for only one user:\n",
    "\n",
    "python3 sherlock user123\n",
    "\n",
    "To search for more than one user:\n",
    "\n",
    "python3 sherlock user1 user2 user3\n"
   ]
  },
  {
   "cell_type": "raw",
   "metadata": {},
   "source": [
    "Example 1 : search your username"
   ]
  },
  {
   "cell_type": "raw",
   "metadata": {},
   "source": [
    "Example 2 : search Neil Breen's username"
   ]
  },
  {
   "cell_type": "markdown",
   "metadata": {},
   "source": [
    "## Spiderfoot - more complete but beware, it can be overwhelming"
   ]
  },
  {
   "cell_type": "markdown",
   "metadata": {},
   "source": [
    "# First, lets install some stuff using command lines\n",
    "#LINUX\n",
    "wget https://github.com/smicallef/spiderfoot/archive/v3.2.1.tar.gz\n",
    "tar zxvf v3.2.1.tar.gz\n",
    "cd spiderfoot-3.2.1/\n",
    "pip3 install -r requirements.txt\n",
    "\n",
    "#WINDOWS\n",
    "Install PIP by downloading this file and running it with Python simply by doing: \"python get-pip.py\"\n",
    "Run pip as you would have for Linux by doing: \"pip3 install -r requirements.txt\"\n",
    "\n",
    "#MAC\n",
    "First, make sure you have Homebrew installed. Try running brew and if that doesn’t work, install it (pasting in your terminal :\n",
    "\n",
    "/bin/bash -c \"$(curl -fsSL https://raw.githubusercontent.com/Homebrew/install/master/install.sh)\" \n",
    "\n",
    "\n",
    "Install Python 3.5+ with \"brew install python\" and this will also install pip\n",
    "With pip you can now install the SpiderFoot dependencies as you would on Linux with \"pip3 install -r requirements.txt\"\n",
    "\n",
    "\n",
    "#Now, let's go !\n",
    "\n",
    "python3 ./sf.py -l 127.0.0.1:5001\n",
    "\n",
    "\n",
    "# Open on your browser\n",
    "http://127.0.0.1:5001/"
   ]
  },
  {
   "cell_type": "raw",
   "metadata": {},
   "source": [
    "Example 1 : try again searching for Neil Breen. Is it better or worse that Sherlock ?\n",
    "Example 2 : try again Neil Breen\n",
    "Exemple 3 : try your phone number\n",
    "Example 4 : try the URL of a small website (yours or for instance portail-juridique.com)\n",
    "Example 5 : try lvmh.fr"
   ]
  },
  {
   "cell_type": "markdown",
   "metadata": {},
   "source": [
    "## OpenCorporates API - a good developer is a lazy developer"
   ]
  },
  {
   "cell_type": "code",
   "execution_count": null,
   "metadata": {},
   "outputs": [],
   "source": [
    "#Let's play this code searching for one officer in New-York\n",
    "\n",
    "# Path to the directory where you want to save file\n",
    "# Exemple for MacOS : '/Users/[username]/Desktop/'\n",
    "# Exemple for Windows : 'c:\\Users\\[username]\\Desktop/'\n",
    "# Exemple for Linux : '/home/[username]/Desktop/'\n",
    "# Replace [username] with your OS username \n",
    "\n",
    "# local_path = 'path/to/your/directory/'\n",
    "\n",
    "local_path = '/Users/yannguegan/Desktop/'\n",
    "\n",
    "import requests\n",
    "import pandas as pd\n",
    "\n",
    "# Set up URL\n",
    "officer_url = 'https://api.opencorporates.com/v0.4/officers/search'\n",
    "\n",
    "# Set up parameters\n",
    "data_params = {\n",
    "    'jurisdiction_code':'us_ny',\n",
    "    'q':'donald+trump'\n",
    "}\n",
    "\n",
    "\n",
    "r = requests.get(url = officer_url, params=data_params)\n",
    "print(r.status_code)\n",
    "data = r.json()\n",
    "\n",
    "\n",
    "df = None\n",
    "for row in data[\"results\"][\"officers\"]:\n",
    "    if df is None:\n",
    "        df = pd.json_normalize(row[\"officer\"])\n",
    "    else:\n",
    "        df = pd.concat([df, pd.json_normalize(row[\"officer\"])])\n",
    "\n",
    "df1 = pd.DataFrame(df)\n",
    "df1.to_csv(local_path + 'officers.csv', index=False, encoding='utf-8')\n",
    "display(df1) "
   ]
  },
  {
   "cell_type": "code",
   "execution_count": null,
   "metadata": {},
   "outputs": [],
   "source": [
    "#Now let's play this code, more useful, for several officers in several jurisdictions\n",
    "\n",
    "import requests\n",
    "import pandas as pd\n",
    "\n",
    "# Set up URL\n",
    "officer_url = 'https://api.opencorporates.com/v0.4/officers/search'\n",
    "\n",
    "list=['donald+trump','nicolas+sarkozy','viktor+orban','elon+musk']\n",
    "\n",
    "df = None\n",
    "\n",
    "for i in list:\n",
    "\n",
    "    data_params = {\n",
    "        'q':i\n",
    "    }\n",
    "\n",
    "\n",
    "    r = requests.get(url = officer_url, params=data_params)\n",
    "    print(r.status_code)\n",
    "    data = r.json()\n",
    "\n",
    "\n",
    "    for row in data[\"results\"][\"officers\"]:\n",
    "        if df is None:\n",
    "            df = pd.json_normalize(row[\"officer\"])\n",
    "        else:\n",
    "            df = pd.concat([df, pd.json_normalize(row[\"officer\"])])\n",
    "\n",
    "\n",
    "df1 = pd.DataFrame(df)\n",
    "df1.to_csv(local_path + 'officers_multiple.csv', index=False, encoding='utf-8')\n",
    "display(df1)"
   ]
  },
  {
   "cell_type": "code",
   "execution_count": null,
   "metadata": {},
   "outputs": [],
   "source": [
    "#Bonus - search for a company name in a specific jurisdiction\n",
    "\n",
    "import requests\n",
    "import pandas as pd\n",
    "\n",
    "# Set up token and URL\n",
    "#api_token = # YOUR API TOKEN HERE\n",
    "search_url = 'https://api.opencorporates.com/v0.4/companies/search'\n",
    "\n",
    "\n",
    "country_code = 'bm'\n",
    "#date_range = '1995-01-01:2000-01-01'\n",
    "name='cybernetwork'\n",
    "#name='trump'\n",
    "\n",
    "data_params = {\n",
    "    #'api_token':api_token,\n",
    "    #'incorporation_date':date_range,\n",
    "    'jurisdiction_code':country_code,\n",
    "    'name':name\n",
    "}\n",
    "\n",
    "\n",
    "r = requests.get(url = search_url, params=data_params)\n",
    "print(r.status_code)\n",
    "\n",
    "data = r.json()\n",
    "\n",
    "\n",
    "df = None\n",
    "for row in data[\"results\"][\"companies\"]:\n",
    "    if df is None:\n",
    "        df = pd.json_normalize(row[\"company\"])\n",
    "    else:\n",
    "        df = pd.concat([df, pd.json_normalize(row[\"company\"])])\n",
    "\n",
    "df1 = pd.DataFrame(df)\n",
    "df1.to_csv(local_path + 'companies.csv', index=False, encoding='utf-8')\n",
    "display(df1)"
   ]
  },
  {
   "cell_type": "code",
   "execution_count": null,
   "metadata": {},
   "outputs": [],
   "source": []
  }
 ],
 "metadata": {
  "kernelspec": {
   "display_name": "Python 3",
   "language": "python",
   "name": "python3"
  },
  "language_info": {
   "codemirror_mode": {
    "name": "ipython",
    "version": 3
   },
   "file_extension": ".py",
   "mimetype": "text/x-python",
   "name": "python",
   "nbconvert_exporter": "python",
   "pygments_lexer": "ipython3",
   "version": "3.6.10"
  }
 },
 "nbformat": 4,
 "nbformat_minor": 4
}
